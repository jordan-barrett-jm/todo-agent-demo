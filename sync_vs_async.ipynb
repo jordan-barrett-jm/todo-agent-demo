{
 "cells": [
  {
   "cell_type": "markdown",
   "metadata": {},
   "source": [
    "## Synchronous Requests vs Asynchronous Requests to Task API\n",
    "This notebook demonstrates the performance impact when processing requests to an API synchronously vs asynchronously"
   ]
  },
  {
   "cell_type": "code",
   "execution_count": 7,
   "metadata": {},
   "outputs": [],
   "source": [
    "import requests\n",
    "import asyncio\n",
    "import aiohttp\n",
    "import os\n",
    "from dotenv import load_dotenv\n",
    "from typing import Optional, Dict, Any\n",
    "import pandas as pd\n",
    "import time\n",
    "import matplotlib.pyplot as plt"
   ]
  },
  {
   "cell_type": "code",
   "execution_count": 2,
   "metadata": {},
   "outputs": [],
   "source": [
    "# Load environment variables from .env file\n",
    "load_dotenv()\n",
    "\n",
    "BASE_URL = os.getenv(\"BASE_URL\")"
   ]
  },
  {
   "cell_type": "code",
   "execution_count": 3,
   "metadata": {},
   "outputs": [],
   "source": [
    "async def fetch(session: aiohttp.ClientSession, url: str) -> Dict[str, Any]:\n",
    "    async with session.get(url) as response:\n",
    "        return await response.json()\n",
    "\n",
    "async def get_tasks_async() -> Dict[str, Any]:\n",
    "    connector = aiohttp.TCPConnector(limit=60)\n",
    "    async with aiohttp.ClientSession() as session:\n",
    "        url = f\"{BASE_URL}/tasks\"\n",
    "        return await fetch(session, url)\n",
    "    \n",
    "async def gather_with_concurrency(n, *coros):\n",
    "    semaphore = asyncio.Semaphore(n)\n",
    "\n",
    "    async def sem_coro(coro):\n",
    "        async with semaphore:\n",
    "            return await coro\n",
    "    return await asyncio.gather(*(sem_coro(c) for c in coros))\n",
    "\n",
    "def get_tasks_sync() -> Dict[str, Any]:\n",
    "    url = f\"{BASE_URL}/tasks\"\n",
    "    res =  requests.get(url)\n",
    "    return res.json()"
   ]
  },
  {
   "cell_type": "code",
   "execution_count": 17,
   "metadata": {},
   "outputs": [],
   "source": [
    "num_repeat = [1, 10, 100, 1000]\n",
    "trials = []\n",
    "for rpt in num_repeat:\n",
    "    #synchronous\n",
    "    sync_start_time = time.time()\n",
    "    for i in range(rpt):\n",
    "        get_tasks_sync()\n",
    "    sync_end_time = time.time()\n",
    "    sync_elapsed = sync_end_time - sync_start_time\n",
    "    #asynchronous\n",
    "    async_start_time = time.time()\n",
    "    tasks = []\n",
    "    for i in range(rpt):\n",
    "        tasks.append(get_tasks_async())\n",
    "    ##limit to max 100 requests at a time\n",
    "    await gather_with_concurrency(100, *tasks)\n",
    "    async_end_time = time.time()\n",
    "    async_elapsed = async_end_time - async_start_time\n",
    "    trials += [\n",
    "        {\n",
    "            \"requests\": str(rpt),\n",
    "            \"request_type\": \"synchronous\",\n",
    "            \"time_elapsed\": sync_elapsed\n",
    "        },\n",
    "        {\n",
    "            \"requests\": str(rpt),\n",
    "            \"request_type\": \"asynchronous\",\n",
    "            \"time_elapsed\": async_elapsed\n",
    "        },\n",
    "    ]"
   ]
  },
  {
   "cell_type": "code",
   "execution_count": 18,
   "metadata": {},
   "outputs": [
    {
     "data": {
      "text/html": [
       "<div>\n",
       "<style scoped>\n",
       "    .dataframe tbody tr th:only-of-type {\n",
       "        vertical-align: middle;\n",
       "    }\n",
       "\n",
       "    .dataframe tbody tr th {\n",
       "        vertical-align: top;\n",
       "    }\n",
       "\n",
       "    .dataframe thead th {\n",
       "        text-align: right;\n",
       "    }\n",
       "</style>\n",
       "<table border=\"1\" class=\"dataframe\">\n",
       "  <thead>\n",
       "    <tr style=\"text-align: right;\">\n",
       "      <th></th>\n",
       "      <th>requests</th>\n",
       "      <th>request_type</th>\n",
       "      <th>time_elapsed</th>\n",
       "    </tr>\n",
       "  </thead>\n",
       "  <tbody>\n",
       "    <tr>\n",
       "      <th>0</th>\n",
       "      <td>1</td>\n",
       "      <td>synchronous</td>\n",
       "      <td>0.018835</td>\n",
       "    </tr>\n",
       "    <tr>\n",
       "      <th>1</th>\n",
       "      <td>1</td>\n",
       "      <td>asynchronous</td>\n",
       "      <td>0.027317</td>\n",
       "    </tr>\n",
       "    <tr>\n",
       "      <th>2</th>\n",
       "      <td>10</td>\n",
       "      <td>synchronous</td>\n",
       "      <td>0.235459</td>\n",
       "    </tr>\n",
       "    <tr>\n",
       "      <th>3</th>\n",
       "      <td>10</td>\n",
       "      <td>asynchronous</td>\n",
       "      <td>0.051353</td>\n",
       "    </tr>\n",
       "    <tr>\n",
       "      <th>4</th>\n",
       "      <td>100</td>\n",
       "      <td>synchronous</td>\n",
       "      <td>2.596421</td>\n",
       "    </tr>\n",
       "    <tr>\n",
       "      <th>5</th>\n",
       "      <td>100</td>\n",
       "      <td>asynchronous</td>\n",
       "      <td>0.342199</td>\n",
       "    </tr>\n",
       "    <tr>\n",
       "      <th>6</th>\n",
       "      <td>1000</td>\n",
       "      <td>synchronous</td>\n",
       "      <td>23.378763</td>\n",
       "    </tr>\n",
       "    <tr>\n",
       "      <th>7</th>\n",
       "      <td>1000</td>\n",
       "      <td>asynchronous</td>\n",
       "      <td>3.485429</td>\n",
       "    </tr>\n",
       "  </tbody>\n",
       "</table>\n",
       "</div>"
      ],
      "text/plain": [
       "  requests  request_type  time_elapsed\n",
       "0        1   synchronous      0.018835\n",
       "1        1  asynchronous      0.027317\n",
       "2       10   synchronous      0.235459\n",
       "3       10  asynchronous      0.051353\n",
       "4      100   synchronous      2.596421\n",
       "5      100  asynchronous      0.342199\n",
       "6     1000   synchronous     23.378763\n",
       "7     1000  asynchronous      3.485429"
      ]
     },
     "execution_count": 18,
     "metadata": {},
     "output_type": "execute_result"
    }
   ],
   "source": [
    "df = pd.DataFrame(trials)\n",
    "df.head(20)"
   ]
  },
  {
   "cell_type": "code",
   "execution_count": 22,
   "metadata": {},
   "outputs": [
    {
     "data": {
      "image/png": "[encoded data removed]",
      "text/plain": [
       "<Figure size 1000x600 with 1 Axes>"
      ]
     },
     "metadata": {},
     "output_type": "display_data"
    }
   ],
   "source": [
    "import numpy as np\n",
    "\n",
    "colors = {'synchronous': 'blue', 'asynchronous': 'green'}\n",
    "plt.figure(figsize=(10, 6))\n",
    "bar_width = 0.4\n",
    "request_types = df['request_type'].unique()\n",
    "unique_requests = df['requests'].unique()\n",
    "\n",
    "r1 = np.arange(len(unique_requests))\n",
    "r2 = [x + bar_width for x in r1]\n",
    "\n",
    "for i, request_type in enumerate(request_types):\n",
    "    subset = df[df['request_type'] == request_type]\n",
    "    # Adjust the position of the bars for each request type\n",
    "    if request_type == 'synchronous':\n",
    "        plt.bar(r1, subset['time_elapsed'], color=colors[request_type], width=bar_width, edgecolor='grey', label=request_type)\n",
    "    else:\n",
    "        plt.bar(r2, subset['time_elapsed'], color=colors[request_type], width=bar_width, edgecolor='grey', label=request_type)\n",
    "\n",
    "plt.xlabel('Number of Requests')\n",
    "plt.ylabel('Time Elapsed (seconds)')\n",
    "plt.title('Time Elapsed by Number of Requests and Request Type')\n",
    "plt.xticks([r + bar_width / 2 for r in range(len(unique_requests))], unique_requests)\n",
    "plt.legend(title='Request Type')\n",
    "plt.show()"
   ]
  }
 ],
 "metadata": {
  "kernelspec": {
   "display_name": "Python 3",
   "language": "python",
   "name": "python3"
  },
  "language_info": {
   "codemirror_mode": {
    "name": "ipython",
    "version": 3
   },
   "file_extension": ".py",
   "mimetype": "text/x-python",
   "name": "python",
   "nbconvert_exporter": "python",
   "pygments_lexer": "ipython3",
   "version": "3.11.3"
  }
 },
 "nbformat": 4,
 "nbformat_minor": 2
}
